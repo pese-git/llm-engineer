{
  "nbformat": 4,
  "nbformat_minor": 0,
  "metadata": {
    "colab": {
      "provenance": [],
      "gpuType": "T4"
    },
    "kernelspec": {
      "name": "python3",
      "display_name": "Python 3"
    },
    "language_info": {
      "name": "python"
    },
    "accelerator": "GPU",
    "widgets": {
      "application/vnd.jupyter.widget-state+json": {
        "bc3a68325c0545609a155255fba43ef7": {
          "model_module": "@jupyter-widgets/controls",
          "model_name": "HBoxModel",
          "model_module_version": "1.5.0",
          "state": {
            "_dom_classes": [],
            "_model_module": "@jupyter-widgets/controls",
            "_model_module_version": "1.5.0",
            "_model_name": "HBoxModel",
            "_view_count": null,
            "_view_module": "@jupyter-widgets/controls",
            "_view_module_version": "1.5.0",
            "_view_name": "HBoxView",
            "box_style": "",
            "children": [
              "IPY_MODEL_aa32827744114969847fc2a940dbb734",
              "IPY_MODEL_cbfa293d7f614df8a1dd59b710a83546",
              "IPY_MODEL_24432d88c8154ff59d12d057daac2bf9"
            ],
            "layout": "IPY_MODEL_f2edbcf369c540148a924914aea41aa5"
          }
        },
        "aa32827744114969847fc2a940dbb734": {
          "model_module": "@jupyter-widgets/controls",
          "model_name": "HTMLModel",
          "model_module_version": "1.5.0",
          "state": {
            "_dom_classes": [],
            "_model_module": "@jupyter-widgets/controls",
            "_model_module_version": "1.5.0",
            "_model_name": "HTMLModel",
            "_view_count": null,
            "_view_module": "@jupyter-widgets/controls",
            "_view_module_version": "1.5.0",
            "_view_name": "HTMLView",
            "description": "",
            "description_tooltip": null,
            "layout": "IPY_MODEL_e34caf20191749e5a35375cba5447196",
            "placeholder": "​",
            "style": "IPY_MODEL_e911e893325e428ea360778fd29afff6",
            "value": "Computing widget examples: 100%"
          }
        },
        "cbfa293d7f614df8a1dd59b710a83546": {
          "model_module": "@jupyter-widgets/controls",
          "model_name": "FloatProgressModel",
          "model_module_version": "1.5.0",
          "state": {
            "_dom_classes": [],
            "_model_module": "@jupyter-widgets/controls",
            "_model_module_version": "1.5.0",
            "_model_name": "FloatProgressModel",
            "_view_count": null,
            "_view_module": "@jupyter-widgets/controls",
            "_view_module_version": "1.5.0",
            "_view_name": "ProgressView",
            "bar_style": "",
            "description": "",
            "description_tooltip": null,
            "layout": "IPY_MODEL_671bf5f370dd428b9fe92f0ef12db318",
            "max": 1,
            "min": 0,
            "orientation": "horizontal",
            "style": "IPY_MODEL_bfaec120b7f840e68e21ee0d141dd53f",
            "value": 1
          }
        },
        "24432d88c8154ff59d12d057daac2bf9": {
          "model_module": "@jupyter-widgets/controls",
          "model_name": "HTMLModel",
          "model_module_version": "1.5.0",
          "state": {
            "_dom_classes": [],
            "_model_module": "@jupyter-widgets/controls",
            "_model_module_version": "1.5.0",
            "_model_name": "HTMLModel",
            "_view_count": null,
            "_view_module": "@jupyter-widgets/controls",
            "_view_module_version": "1.5.0",
            "_view_name": "HTMLView",
            "description": "",
            "description_tooltip": null,
            "layout": "IPY_MODEL_72cb5e0d12e44bb3afcecdef3022cd4e",
            "placeholder": "​",
            "style": "IPY_MODEL_6b11fdabac1c48fc920ad18abbc2cfc9",
            "value": " 1/1 [00:00&lt;00:00,  4.37example/s]"
          }
        },
        "f2edbcf369c540148a924914aea41aa5": {
          "model_module": "@jupyter-widgets/base",
          "model_name": "LayoutModel",
          "model_module_version": "1.2.0",
          "state": {
            "_model_module": "@jupyter-widgets/base",
            "_model_module_version": "1.2.0",
            "_model_name": "LayoutModel",
            "_view_count": null,
            "_view_module": "@jupyter-widgets/base",
            "_view_module_version": "1.2.0",
            "_view_name": "LayoutView",
            "align_content": null,
            "align_items": null,
            "align_self": null,
            "border": null,
            "bottom": null,
            "display": null,
            "flex": null,
            "flex_flow": null,
            "grid_area": null,
            "grid_auto_columns": null,
            "grid_auto_flow": null,
            "grid_auto_rows": null,
            "grid_column": null,
            "grid_gap": null,
            "grid_row": null,
            "grid_template_areas": null,
            "grid_template_columns": null,
            "grid_template_rows": null,
            "height": null,
            "justify_content": null,
            "justify_items": null,
            "left": null,
            "margin": null,
            "max_height": null,
            "max_width": null,
            "min_height": null,
            "min_width": null,
            "object_fit": null,
            "object_position": null,
            "order": null,
            "overflow": null,
            "overflow_x": null,
            "overflow_y": null,
            "padding": null,
            "right": null,
            "top": null,
            "visibility": "hidden",
            "width": null
          }
        },
        "e34caf20191749e5a35375cba5447196": {
          "model_module": "@jupyter-widgets/base",
          "model_name": "LayoutModel",
          "model_module_version": "1.2.0",
          "state": {
            "_model_module": "@jupyter-widgets/base",
            "_model_module_version": "1.2.0",
            "_model_name": "LayoutModel",
            "_view_count": null,
            "_view_module": "@jupyter-widgets/base",
            "_view_module_version": "1.2.0",
            "_view_name": "LayoutView",
            "align_content": null,
            "align_items": null,
            "align_self": null,
            "border": null,
            "bottom": null,
            "display": null,
            "flex": null,
            "flex_flow": null,
            "grid_area": null,
            "grid_auto_columns": null,
            "grid_auto_flow": null,
            "grid_auto_rows": null,
            "grid_column": null,
            "grid_gap": null,
            "grid_row": null,
            "grid_template_areas": null,
            "grid_template_columns": null,
            "grid_template_rows": null,
            "height": null,
            "justify_content": null,
            "justify_items": null,
            "left": null,
            "margin": null,
            "max_height": null,
            "max_width": null,
            "min_height": null,
            "min_width": null,
            "object_fit": null,
            "object_position": null,
            "order": null,
            "overflow": null,
            "overflow_x": null,
            "overflow_y": null,
            "padding": null,
            "right": null,
            "top": null,
            "visibility": null,
            "width": null
          }
        },
        "e911e893325e428ea360778fd29afff6": {
          "model_module": "@jupyter-widgets/controls",
          "model_name": "DescriptionStyleModel",
          "model_module_version": "1.5.0",
          "state": {
            "_model_module": "@jupyter-widgets/controls",
            "_model_module_version": "1.5.0",
            "_model_name": "DescriptionStyleModel",
            "_view_count": null,
            "_view_module": "@jupyter-widgets/base",
            "_view_module_version": "1.2.0",
            "_view_name": "StyleView",
            "description_width": ""
          }
        },
        "671bf5f370dd428b9fe92f0ef12db318": {
          "model_module": "@jupyter-widgets/base",
          "model_name": "LayoutModel",
          "model_module_version": "1.2.0",
          "state": {
            "_model_module": "@jupyter-widgets/base",
            "_model_module_version": "1.2.0",
            "_model_name": "LayoutModel",
            "_view_count": null,
            "_view_module": "@jupyter-widgets/base",
            "_view_module_version": "1.2.0",
            "_view_name": "LayoutView",
            "align_content": null,
            "align_items": null,
            "align_self": null,
            "border": null,
            "bottom": null,
            "display": null,
            "flex": null,
            "flex_flow": null,
            "grid_area": null,
            "grid_auto_columns": null,
            "grid_auto_flow": null,
            "grid_auto_rows": null,
            "grid_column": null,
            "grid_gap": null,
            "grid_row": null,
            "grid_template_areas": null,
            "grid_template_columns": null,
            "grid_template_rows": null,
            "height": null,
            "justify_content": null,
            "justify_items": null,
            "left": null,
            "margin": null,
            "max_height": null,
            "max_width": null,
            "min_height": null,
            "min_width": null,
            "object_fit": null,
            "object_position": null,
            "order": null,
            "overflow": null,
            "overflow_x": null,
            "overflow_y": null,
            "padding": null,
            "right": null,
            "top": null,
            "visibility": null,
            "width": null
          }
        },
        "bfaec120b7f840e68e21ee0d141dd53f": {
          "model_module": "@jupyter-widgets/controls",
          "model_name": "ProgressStyleModel",
          "model_module_version": "1.5.0",
          "state": {
            "_model_module": "@jupyter-widgets/controls",
            "_model_module_version": "1.5.0",
            "_model_name": "ProgressStyleModel",
            "_view_count": null,
            "_view_module": "@jupyter-widgets/base",
            "_view_module_version": "1.2.0",
            "_view_name": "StyleView",
            "bar_color": null,
            "description_width": ""
          }
        },
        "72cb5e0d12e44bb3afcecdef3022cd4e": {
          "model_module": "@jupyter-widgets/base",
          "model_name": "LayoutModel",
          "model_module_version": "1.2.0",
          "state": {
            "_model_module": "@jupyter-widgets/base",
            "_model_module_version": "1.2.0",
            "_model_name": "LayoutModel",
            "_view_count": null,
            "_view_module": "@jupyter-widgets/base",
            "_view_module_version": "1.2.0",
            "_view_name": "LayoutView",
            "align_content": null,
            "align_items": null,
            "align_self": null,
            "border": null,
            "bottom": null,
            "display": null,
            "flex": null,
            "flex_flow": null,
            "grid_area": null,
            "grid_auto_columns": null,
            "grid_auto_flow": null,
            "grid_auto_rows": null,
            "grid_column": null,
            "grid_gap": null,
            "grid_row": null,
            "grid_template_areas": null,
            "grid_template_columns": null,
            "grid_template_rows": null,
            "height": null,
            "justify_content": null,
            "justify_items": null,
            "left": null,
            "margin": null,
            "max_height": null,
            "max_width": null,
            "min_height": null,
            "min_width": null,
            "object_fit": null,
            "object_position": null,
            "order": null,
            "overflow": null,
            "overflow_x": null,
            "overflow_y": null,
            "padding": null,
            "right": null,
            "top": null,
            "visibility": null,
            "width": null
          }
        },
        "6b11fdabac1c48fc920ad18abbc2cfc9": {
          "model_module": "@jupyter-widgets/controls",
          "model_name": "DescriptionStyleModel",
          "model_module_version": "1.5.0",
          "state": {
            "_model_module": "@jupyter-widgets/controls",
            "_model_module_version": "1.5.0",
            "_model_name": "DescriptionStyleModel",
            "_view_count": null,
            "_view_module": "@jupyter-widgets/base",
            "_view_module_version": "1.2.0",
            "_view_name": "StyleView",
            "description_width": ""
          }
        }
      }
    }
  },
  "cells": [
    {
      "cell_type": "code",
      "source": [
        "!pip -q install -U sentence-transformers peft bitsandbytes datasets==3.6.0"
      ],
      "metadata": {
        "id": "fvxNuWyDX2kD"
      },
      "execution_count": null,
      "outputs": []
    },
    {
      "cell_type": "markdown",
      "source": [
        "### Импорты и утилиты"
      ],
      "metadata": {
        "id": "YC6ke9UAgLP7"
      }
    },
    {
      "cell_type": "code",
      "source": [
        "import os, gc, random, math\n",
        "import numpy as np\n",
        "\n",
        "import torch\n",
        "from torch.utils.data import DataLoader\n",
        "from sentence_transformers import SentenceTransformer, losses, models\n",
        "from sentence_transformers.training_args import SentenceTransformerTrainingArguments\n",
        "from sentence_transformers.trainer import SentenceTransformerTrainer\n",
        "\n",
        "from peft import LoraConfig, get_peft_model, TaskType\n",
        "from bitsandbytes.optim import AdamW8bit\n",
        "from datasets import Dataset, load_dataset"
      ],
      "metadata": {
        "id": "i6T5T_jnbs6S"
      },
      "execution_count": null,
      "outputs": []
    },
    {
      "cell_type": "code",
      "source": [
        "device = \"cuda\" if torch.cuda.is_available() else \"cpu\"\n",
        "device"
      ],
      "metadata": {
        "id": "JjfaFJwRbuD3",
        "colab": {
          "base_uri": "https://localhost:8080/",
          "height": 35
        },
        "outputId": "44fba1ce-f0ff-40a4-aa11-e4735a02dc23"
      },
      "execution_count": null,
      "outputs": [
        {
          "output_type": "execute_result",
          "data": {
            "text/plain": [
              "'cuda'"
            ],
            "application/vnd.google.colaboratory.intrinsic+json": {
              "type": "string"
            }
          },
          "metadata": {},
          "execution_count": 3
        }
      ]
    },
    {
      "cell_type": "code",
      "source": [
        "def flush():\n",
        "    gc.collect()\n",
        "    if torch.cuda.is_available():\n",
        "        torch.cuda.empty_cache()"
      ],
      "metadata": {
        "id": "3Ud_RJATbk-7"
      },
      "execution_count": null,
      "outputs": []
    },
    {
      "cell_type": "markdown",
      "source": [
        "### Подготовка датасета"
      ],
      "metadata": {
        "id": "kxYZ0yM8gNMo"
      }
    },
    {
      "cell_type": "code",
      "source": [
        "def extract_pairs(ds, max_samples=None, seed=42):\n",
        "    pairs = []\n",
        "    for ex in ds:\n",
        "        q = ex.get(\"question\")\n",
        "        pos = ex.get(\"context\")\n",
        "        pairs.append((q, pos))\n",
        "\n",
        "    if seed is not None:\n",
        "        random.seed(seed)\n",
        "        random.shuffle(pairs)\n",
        "\n",
        "    if max_samples is not None:\n",
        "        pairs = pairs[:max_samples]\n",
        "    return pairs\n",
        "\n",
        "\n",
        "ds_train = load_dataset(\"kuznetsoffandrey/sberquad\", split=\"train[:2000]\")\n",
        "ds_val = load_dataset(\"kuznetsoffandrey/sberquad\", split=\"validation[:500]\")\n",
        "\n",
        "train_pairs = extract_pairs(ds_train)\n",
        "val_pairs   = extract_pairs(ds_val)\n",
        "\n",
        "print(f\"Train pairs: {len(train_pairs)} | Val pairs: {len(val_pairs)}\")\n",
        "print(\"Sample train pair:\", train_pairs[0])"
      ],
      "metadata": {
        "colab": {
          "base_uri": "https://localhost:8080/"
        },
        "id": "evnFbiJws8Pn",
        "outputId": "9d43ae7f-5a9f-4f75-85fe-069e024dc289"
      },
      "execution_count": null,
      "outputs": [
        {
          "output_type": "stream",
          "name": "stderr",
          "text": [
            "/usr/local/lib/python3.12/dist-packages/huggingface_hub/utils/_auth.py:86: UserWarning: \n",
            "Access to the secret `HF_TOKEN` has not been granted on this notebook.\n",
            "You will not be requested again.\n",
            "Please restart the session if you want to be prompted again.\n",
            "  warnings.warn(\n"
          ]
        },
        {
          "output_type": "stream",
          "name": "stdout",
          "text": [
            "Train pairs: 2000 | Val pairs: 500\n",
            "Sample train pair: ('где в основном российские метрополитены расположены', 'Кроме того, Максимом Горьким в Городе Жёлтого Дьявола было введено в русский язык слово-калька подземка . Оно прижилось, но преимущественно в качестве обозначения зарубежных метрополитенов (лондонская подземка, нью-йоркская подземка и т. д.), хотя в последнее время встречается в российской прессе и применительно к российским метрополитенам, проложенным в основном под землёй. Соответственно, преимущественно эстакадные метрополитены называют надземками , несмотря на то, что таких метрополитенов в России пока ещё нет.')\n"
          ]
        }
      ]
    },
    {
      "cell_type": "markdown",
      "source": [
        "### Дообучение"
      ],
      "metadata": {
        "id": "UExQXmiFgQPJ"
      }
    },
    {
      "cell_type": "code",
      "source": [
        "flush()\n",
        "\n",
        "base_name = \"intfloat/multilingual-e5-small\"\n",
        "st_model = SentenceTransformer(base_name, device=device)\n",
        "\n",
        "# Извлекаем базовый AutoModel\n",
        "backbone = st_model[0].auto_model\n",
        "\n",
        "# Включаем gradient checkpointing\n",
        "if hasattr(backbone, \"gradient_checkpointing_enable\"):\n",
        "    backbone.gradient_checkpointing_enable()\n",
        "\n",
        "lora_cfg = LoraConfig(\n",
        "    r=16,\n",
        "    lora_alpha=16,\n",
        "    lora_dropout=0.05,\n",
        "    bias=\"none\",\n",
        "    target_modules=[\"query\", \"key\", \"value\", \"dense\"],\n",
        "    task_type=TaskType.FEATURE_EXTRACTION,\n",
        ")\n",
        "peft_backbone = get_peft_model(backbone, lora_cfg)\n",
        "peft_backbone.print_trainable_parameters()\n",
        "\n",
        "st_model[0].auto_model = peft_backbone\n",
        "\n",
        "loss_fn = losses.MultipleNegativesRankingLoss(st_model)"
      ],
      "metadata": {
        "id": "dqtGfOrhblJH",
        "colab": {
          "base_uri": "https://localhost:8080/"
        },
        "outputId": "26ab89db-f0cc-446e-a0a1-adc4be77b7cb"
      },
      "execution_count": null,
      "outputs": [
        {
          "output_type": "stream",
          "name": "stdout",
          "text": [
            "trainable params: 1,339,392 || all params: 118,993,152 || trainable%: 1.1256\n"
          ]
        }
      ]
    },
    {
      "cell_type": "code",
      "source": [
        "def embed(texts, model, batch_size=128, normalize=True):\n",
        "    vectors = model.encode(\n",
        "        texts,\n",
        "        batch_size=batch_size,\n",
        "        convert_to_numpy=True,\n",
        "        normalize_embeddings=normalize,\n",
        "        device=device,\n",
        "        show_progress_bar=False,\n",
        "    )\n",
        "    return vectors\n",
        "\n",
        "queries = [q for q,_ in val_pairs]\n",
        "docs    = [d for _,d in val_pairs]\n",
        "\n",
        "q_vecs = embed(queries, st_model)\n",
        "d_vecs = embed(docs, st_model)\n",
        "\n",
        "sims = np.matmul(q_vecs, d_vecs.T)\n",
        "k = min(5, sims.shape[1])\n",
        "topk_idx = np.argpartition(-sims, kth=k-1, axis=1)[:, :k]\n",
        "\n",
        "true_idx = np.arange(len(val_pairs))\n",
        "hits = (topk_idx == true_idx[:, None]).any(axis=1)\n",
        "hit5 = hits.mean()\n",
        "print(f\"Hit@5: {hit5:.3f}\")"
      ],
      "metadata": {
        "id": "j8tIx5G8blLx",
        "colab": {
          "base_uri": "https://localhost:8080/"
        },
        "outputId": "dfa1eaa9-dc9e-4dfe-feee-2951a980182c"
      },
      "execution_count": null,
      "outputs": [
        {
          "output_type": "stream",
          "name": "stdout",
          "text": [
            "Hit@5: 0.980\n"
          ]
        }
      ]
    },
    {
      "cell_type": "code",
      "source": [
        "train_data = [\n",
        "    {\n",
        "        \"anchor\": q,\n",
        "        \"positive\": d\n",
        "    }\n",
        "    for q, d in train_pairs\n",
        "]\n",
        "train_ds = Dataset.from_list(train_data)\n",
        "\n",
        "val_data = [\n",
        "    {\n",
        "        \"anchor\": q,\n",
        "        \"positive\": d\n",
        "    }\n",
        "    for q, d in val_pairs\n",
        "]\n",
        "val_ds = Dataset.from_list(val_data)"
      ],
      "metadata": {
        "id": "3Ax0Cv5rz0U7"
      },
      "execution_count": null,
      "outputs": []
    },
    {
      "cell_type": "code",
      "source": [
        "epochs = 5\n",
        "batch_size = 32\n",
        "gradient_accumulation_steps = 4\n",
        "max_steps_cap = 120\n",
        "warmup_ratio = 0.05\n",
        "\n",
        "steps_per_epoch = min(math.ceil(len(train_ds) / batch_size), max_steps_cap)\n",
        "total_steps = steps_per_epoch * epochs\n",
        "\n",
        "loss_fn = losses.MultipleNegativesRankingLoss(st_model)\n",
        "\n",
        "training_args = SentenceTransformerTrainingArguments(\n",
        "    output_dir=\"st-encoder-qlora-out\",\n",
        "    per_device_train_batch_size=batch_size,\n",
        "    gradient_accumulation_steps=gradient_accumulation_steps,\n",
        "    learning_rate=2e-4,\n",
        "    warmup_ratio=warmup_ratio,\n",
        "    num_train_epochs=epochs,\n",
        "    max_steps=total_steps,\n",
        "    lr_scheduler_type=\"cosine\",\n",
        "    weight_decay=0.01,\n",
        "    logging_steps=10,\n",
        "    save_strategy=\"no\",\n",
        "    eval_strategy=\"steps\",\n",
        "    eval_steps=50,\n",
        "    report_to=\"none\",\n",
        "    optim=\"paged_adamw_8bit\",\n",
        "    fp16=torch.cuda.is_available(),\n",
        "    gradient_checkpointing=True,\n",
        "    dataloader_drop_last=True,\n",
        "    dataloader_num_workers=0,\n",
        "    seed=42,\n",
        ")\n",
        "\n",
        "trainer = SentenceTransformerTrainer(\n",
        "    model=st_model,\n",
        "    args=training_args,\n",
        "    train_dataset=train_ds,\n",
        "    eval_dataset=val_ds,\n",
        "    loss=loss_fn,\n",
        ")\n",
        "\n",
        "trainer.train()\n",
        "\n",
        "st_model.save(\"st-encoder-qlora-out/final_model\")"
      ],
      "metadata": {
        "colab": {
          "base_uri": "https://localhost:8080/",
          "height": 264,
          "referenced_widgets": [
            "bc3a68325c0545609a155255fba43ef7",
            "aa32827744114969847fc2a940dbb734",
            "cbfa293d7f614df8a1dd59b710a83546",
            "24432d88c8154ff59d12d057daac2bf9",
            "f2edbcf369c540148a924914aea41aa5",
            "e34caf20191749e5a35375cba5447196",
            "e911e893325e428ea360778fd29afff6",
            "671bf5f370dd428b9fe92f0ef12db318",
            "bfaec120b7f840e68e21ee0d141dd53f",
            "72cb5e0d12e44bb3afcecdef3022cd4e",
            "6b11fdabac1c48fc920ad18abbc2cfc9"
          ]
        },
        "id": "apANHCEFrFrk",
        "outputId": "0ee69388-09d4-497d-900d-25601056c605"
      },
      "execution_count": null,
      "outputs": [
        {
          "output_type": "display_data",
          "data": {
            "text/plain": [
              "Computing widget examples:   0%|          | 0/1 [00:00<?, ?example/s]"
            ],
            "application/vnd.jupyter.widget-view+json": {
              "version_major": 2,
              "version_minor": 0,
              "model_id": "bc3a68325c0545609a155255fba43ef7"
            }
          },
          "metadata": {}
        },
        {
          "output_type": "display_data",
          "data": {
            "text/plain": [
              "<IPython.core.display.HTML object>"
            ],
            "text/html": [
              "\n",
              "    <div>\n",
              "      \n",
              "      <progress value='315' max='315' style='width:300px; height:20px; vertical-align: middle;'></progress>\n",
              "      [315/315 12:27, Epoch 19/20]\n",
              "    </div>\n",
              "    <table border=\"1\" class=\"dataframe\">\n",
              "  <thead>\n",
              " <tr style=\"text-align: left;\">\n",
              "      <th>Step</th>\n",
              "      <th>Training Loss</th>\n",
              "      <th>Validation Loss</th>\n",
              "    </tr>\n",
              "  </thead>\n",
              "  <tbody>\n",
              "    <tr>\n",
              "      <td>50</td>\n",
              "      <td>0.193700</td>\n",
              "      <td>0.039785</td>\n",
              "    </tr>\n",
              "    <tr>\n",
              "      <td>100</td>\n",
              "      <td>0.144700</td>\n",
              "      <td>0.035343</td>\n",
              "    </tr>\n",
              "    <tr>\n",
              "      <td>150</td>\n",
              "      <td>0.125000</td>\n",
              "      <td>0.035241</td>\n",
              "    </tr>\n",
              "    <tr>\n",
              "      <td>200</td>\n",
              "      <td>0.101500</td>\n",
              "      <td>0.034620</td>\n",
              "    </tr>\n",
              "    <tr>\n",
              "      <td>250</td>\n",
              "      <td>0.101300</td>\n",
              "      <td>0.034605</td>\n",
              "    </tr>\n",
              "    <tr>\n",
              "      <td>300</td>\n",
              "      <td>0.096900</td>\n",
              "      <td>0.034676</td>\n",
              "    </tr>\n",
              "  </tbody>\n",
              "</table><p>"
            ]
          },
          "metadata": {}
        }
      ]
    },
    {
      "cell_type": "code",
      "source": [
        "q_vecs_after = embed(queries, st_model)\n",
        "d_vecs_after = embed(docs, st_model)\n",
        "\n",
        "sims_after = np.matmul(q_vecs_after, d_vecs_after.T)\n",
        "\n",
        "k = min(5, sims_after.shape[1])\n",
        "topk_idx = np.argpartition(-sims_after, kth=k-1, axis=1)[:, :k]\n",
        "\n",
        "true_idx = np.arange(len(val_pairs))\n",
        "hits = (topk_idx == true_idx[:, None]).any(axis=1)\n",
        "hit5 = hits.mean()\n",
        "\n",
        "print(f\"Hit@5: {hit5:.3f}\")"
      ],
      "metadata": {
        "colab": {
          "base_uri": "https://localhost:8080/"
        },
        "id": "GsdWGdFg39Mo",
        "outputId": "51dd969e-ea5f-4808-a836-fd2a745d7f45"
      },
      "execution_count": null,
      "outputs": [
        {
          "output_type": "stream",
          "name": "stdout",
          "text": [
            "Hit@5: 0.986\n"
          ]
        }
      ]
    },
    {
      "cell_type": "code",
      "source": [],
      "metadata": {
        "id": "oCPMnm58gSYs"
      },
      "execution_count": null,
      "outputs": []
    }
  ]
}