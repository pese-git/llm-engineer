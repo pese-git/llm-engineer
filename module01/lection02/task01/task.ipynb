{
 "cells": [
  {
   "cell_type": "markdown",
   "id": "9b85b752",
   "metadata": {},
   "source": [
    "\n",
    "📌 **Формат сдачи:**\n",
    "Ссылка на Google Collab / Jupyter Notebook с вашими действиями и выводами.\n",
    "\n",
    "🗓️ **Сроки:**\n",
    "\n",
    "* 10 августа, 23:59 — мягкий дедлайн (до 10 баллов)\n",
    "* 17 августа, 23:59 — жёсткий дедлайн (до 5 баллов)\n",
    "* После 17 августа — зачёт/незачёт\n",
    "\n",
    "---\n",
    "\n",
    "## 📬 Отправка ответа\n",
    "\n",
    "Привет! Это твоё второе домашнее задание на курсе.\n",
    "Отправь ссылку на Google Collab / Jupyter Notebook, в котором ты:\n",
    "\n",
    "* Выполнил все шаги\n",
    "* Выделил результаты\n",
    "\n",
    "Удачи!\n",
    "**Команда GIGASCHOOL 💚**\n",
    "\n",
    "---"
   ]
  },
  {
   "cell_type": "code",
   "execution_count": 1,
   "id": "ff8fcb0d",
   "metadata": {},
   "outputs": [
    {
     "name": "stdout",
     "output_type": "stream",
     "text": [
      "Requirement already satisfied: transformers in /Users/sergey/Projects/GigaSchool/llm-engineer/venv/lib/python3.9/site-packages (4.54.1)\n",
      "Requirement already satisfied: sentence-transformers in /Users/sergey/Projects/GigaSchool/llm-engineer/venv/lib/python3.9/site-packages (5.0.0)\n",
      "Requirement already satisfied: scikit-learn in /Users/sergey/Projects/GigaSchool/llm-engineer/venv/lib/python3.9/site-packages (1.6.1)\n",
      "Requirement already satisfied: matplotlib in /Users/sergey/Projects/GigaSchool/llm-engineer/venv/lib/python3.9/site-packages (3.9.4)\n",
      "Requirement already satisfied: tiktoken in /Users/sergey/Projects/GigaSchool/llm-engineer/venv/lib/python3.9/site-packages (0.10.0)\n",
      "Requirement already satisfied: protobuf in /Users/sergey/Projects/GigaSchool/llm-engineer/venv/lib/python3.9/site-packages (6.31.1)\n",
      "Requirement already satisfied: filelock in /Users/sergey/Projects/GigaSchool/llm-engineer/venv/lib/python3.9/site-packages (from transformers) (3.18.0)\n",
      "Requirement already satisfied: huggingface-hub<1.0,>=0.34.0 in /Users/sergey/Projects/GigaSchool/llm-engineer/venv/lib/python3.9/site-packages (from transformers) (0.34.3)\n",
      "Requirement already satisfied: numpy>=1.17 in /Users/sergey/Projects/GigaSchool/llm-engineer/venv/lib/python3.9/site-packages (from transformers) (1.24.4)\n",
      "Requirement already satisfied: packaging>=20.0 in /Users/sergey/Projects/GigaSchool/llm-engineer/venv/lib/python3.9/site-packages (from transformers) (25.0)\n",
      "Requirement already satisfied: pyyaml>=5.1 in /Users/sergey/Projects/GigaSchool/llm-engineer/venv/lib/python3.9/site-packages (from transformers) (6.0.2)\n",
      "Requirement already satisfied: regex!=2019.12.17 in /Users/sergey/Projects/GigaSchool/llm-engineer/venv/lib/python3.9/site-packages (from transformers) (2025.7.29)\n",
      "Requirement already satisfied: requests in /Users/sergey/Projects/GigaSchool/llm-engineer/venv/lib/python3.9/site-packages (from transformers) (2.32.4)\n",
      "Requirement already satisfied: tokenizers<0.22,>=0.21 in /Users/sergey/Projects/GigaSchool/llm-engineer/venv/lib/python3.9/site-packages (from transformers) (0.21.4)\n",
      "Requirement already satisfied: safetensors>=0.4.3 in /Users/sergey/Projects/GigaSchool/llm-engineer/venv/lib/python3.9/site-packages (from transformers) (0.5.3)\n",
      "Requirement already satisfied: tqdm>=4.27 in /Users/sergey/Projects/GigaSchool/llm-engineer/venv/lib/python3.9/site-packages (from transformers) (4.67.1)\n",
      "Requirement already satisfied: torch>=1.11.0 in /Users/sergey/Projects/GigaSchool/llm-engineer/venv/lib/python3.9/site-packages (from sentence-transformers) (2.7.1)\n",
      "Requirement already satisfied: scipy in /Users/sergey/Projects/GigaSchool/llm-engineer/venv/lib/python3.9/site-packages (from sentence-transformers) (1.13.1)\n",
      "Requirement already satisfied: Pillow in /Users/sergey/Projects/GigaSchool/llm-engineer/venv/lib/python3.9/site-packages (from sentence-transformers) (11.3.0)\n",
      "Requirement already satisfied: typing_extensions>=4.5.0 in /Users/sergey/Projects/GigaSchool/llm-engineer/venv/lib/python3.9/site-packages (from sentence-transformers) (4.14.1)\n",
      "Requirement already satisfied: joblib>=1.2.0 in /Users/sergey/Projects/GigaSchool/llm-engineer/venv/lib/python3.9/site-packages (from scikit-learn) (1.5.1)\n",
      "Requirement already satisfied: threadpoolctl>=3.1.0 in /Users/sergey/Projects/GigaSchool/llm-engineer/venv/lib/python3.9/site-packages (from scikit-learn) (3.6.0)\n",
      "Requirement already satisfied: contourpy>=1.0.1 in /Users/sergey/Projects/GigaSchool/llm-engineer/venv/lib/python3.9/site-packages (from matplotlib) (1.3.0)\n",
      "Requirement already satisfied: cycler>=0.10 in /Users/sergey/Projects/GigaSchool/llm-engineer/venv/lib/python3.9/site-packages (from matplotlib) (0.12.1)\n",
      "Requirement already satisfied: fonttools>=4.22.0 in /Users/sergey/Projects/GigaSchool/llm-engineer/venv/lib/python3.9/site-packages (from matplotlib) (4.59.0)\n",
      "Requirement already satisfied: kiwisolver>=1.3.1 in /Users/sergey/Projects/GigaSchool/llm-engineer/venv/lib/python3.9/site-packages (from matplotlib) (1.4.7)\n",
      "Requirement already satisfied: pyparsing>=2.3.1 in /Users/sergey/Projects/GigaSchool/llm-engineer/venv/lib/python3.9/site-packages (from matplotlib) (3.2.3)\n",
      "Requirement already satisfied: python-dateutil>=2.7 in /Users/sergey/Projects/GigaSchool/llm-engineer/venv/lib/python3.9/site-packages (from matplotlib) (2.9.0.post0)\n",
      "Requirement already satisfied: importlib-resources>=3.2.0 in /Users/sergey/Projects/GigaSchool/llm-engineer/venv/lib/python3.9/site-packages (from matplotlib) (6.5.2)\n",
      "Requirement already satisfied: fsspec>=2023.5.0 in /Users/sergey/Projects/GigaSchool/llm-engineer/venv/lib/python3.9/site-packages (from huggingface-hub<1.0,>=0.34.0->transformers) (2025.7.0)\n",
      "Requirement already satisfied: hf-xet<2.0.0,>=1.1.3 in /Users/sergey/Projects/GigaSchool/llm-engineer/venv/lib/python3.9/site-packages (from huggingface-hub<1.0,>=0.34.0->transformers) (1.1.5)\n",
      "Requirement already satisfied: zipp>=3.1.0 in /Users/sergey/Projects/GigaSchool/llm-engineer/venv/lib/python3.9/site-packages (from importlib-resources>=3.2.0->matplotlib) (3.23.0)\n",
      "Requirement already satisfied: six>=1.5 in /Users/sergey/Projects/GigaSchool/llm-engineer/venv/lib/python3.9/site-packages (from python-dateutil>=2.7->matplotlib) (1.17.0)\n",
      "Requirement already satisfied: charset_normalizer<4,>=2 in /Users/sergey/Projects/GigaSchool/llm-engineer/venv/lib/python3.9/site-packages (from requests->transformers) (3.4.2)\n",
      "Requirement already satisfied: idna<4,>=2.5 in /Users/sergey/Projects/GigaSchool/llm-engineer/venv/lib/python3.9/site-packages (from requests->transformers) (3.10)\n",
      "Requirement already satisfied: urllib3<3,>=1.21.1 in /Users/sergey/Projects/GigaSchool/llm-engineer/venv/lib/python3.9/site-packages (from requests->transformers) (2.5.0)\n",
      "Requirement already satisfied: certifi>=2017.4.17 in /Users/sergey/Projects/GigaSchool/llm-engineer/venv/lib/python3.9/site-packages (from requests->transformers) (2025.7.14)\n",
      "Requirement already satisfied: sympy>=1.13.3 in /Users/sergey/Projects/GigaSchool/llm-engineer/venv/lib/python3.9/site-packages (from torch>=1.11.0->sentence-transformers) (1.14.0)\n",
      "Requirement already satisfied: networkx in /Users/sergey/Projects/GigaSchool/llm-engineer/venv/lib/python3.9/site-packages (from torch>=1.11.0->sentence-transformers) (3.2.1)\n",
      "Requirement already satisfied: jinja2 in /Users/sergey/Projects/GigaSchool/llm-engineer/venv/lib/python3.9/site-packages (from torch>=1.11.0->sentence-transformers) (3.1.6)\n",
      "Requirement already satisfied: mpmath<1.4,>=1.1.0 in /Users/sergey/Projects/GigaSchool/llm-engineer/venv/lib/python3.9/site-packages (from sympy>=1.13.3->torch>=1.11.0->sentence-transformers) (1.3.0)\n",
      "Requirement already satisfied: MarkupSafe>=2.0 in /Users/sergey/Projects/GigaSchool/llm-engineer/venv/lib/python3.9/site-packages (from jinja2->torch>=1.11.0->sentence-transformers) (3.0.2)\n",
      "\n",
      "\u001b[1m[\u001b[0m\u001b[34;49mnotice\u001b[0m\u001b[1;39;49m]\u001b[0m\u001b[39;49m A new release of pip is available: \u001b[0m\u001b[31;49m24.3.1\u001b[0m\u001b[39;49m -> \u001b[0m\u001b[32;49m25.2\u001b[0m\n",
      "\u001b[1m[\u001b[0m\u001b[34;49mnotice\u001b[0m\u001b[1;39;49m]\u001b[0m\u001b[39;49m To update, run: \u001b[0m\u001b[32;49mpip install --upgrade pip\u001b[0m\n"
     ]
    }
   ],
   "source": [
    "!pip install transformers sentence-transformers scikit-learn matplotlib tiktoken protobuf"
   ]
  },
  {
   "cell_type": "markdown",
   "id": "c03f7dd6",
   "metadata": {},
   "source": [
    "## 📝 Домашнее задание\n",
    "\n",
    "### Задание 1: Работа с Hugging Face и pipeline API — *1 балл*\n",
    "\n",
    "* Выберите модель для суммаризации на русском языке.\n",
    "* Загрузите её и протестируйте с помощью pipeline.\n",
    "* Проверьте на 5 различных примерах и проанализируйте результаты.\n",
    "\n",
    "---"
   ]
  },
  {
   "cell_type": "code",
   "execution_count": 2,
   "id": "edccbc51",
   "metadata": {},
   "outputs": [
    {
     "name": "stderr",
     "output_type": "stream",
     "text": [
      "/Users/sergey/Projects/GigaSchool/llm-engineer/venv/lib/python3.9/site-packages/tqdm/auto.py:21: TqdmWarning: IProgress not found. Please update jupyter and ipywidgets. See https://ipywidgets.readthedocs.io/en/stable/user_install.html\n",
      "  from .autonotebook import tqdm as notebook_tqdm\n",
      "Device set to use mps:0\n"
     ]
    }
   ],
   "source": [
    "from transformers import pipeline\n",
    "\n",
    "# Загружаем пайплайн для суммаризации с русской моделью\n",
    "summarizer = pipeline(\"summarization\", model=\"d0rj/ru-mbart-large-summ\")"
   ]
  },
  {
   "cell_type": "code",
   "execution_count": 3,
   "id": "6bd64515",
   "metadata": {},
   "outputs": [
    {
     "name": "stdout",
     "output_type": "stream",
     "text": [
      "Пример 1:\n",
      "Оригинал: В ходе международной конференции по климатическим изменениям ученые представили новые данные о темпах глобального потепления. Среди ключевых причин отмечаются антропогенные выбросы парниковых газов и изменение использования земель. Эксперты призвали государства к срочным мерам по сокращению вредных выбросов.\n",
      "Суммаризация: В ходе конференции по климатическим изменениям в Международной конференции ученые представили новые данные о климатических изменениях\n",
      "----------------------------------------\n",
      "Пример 2:\n",
      "Оригинал: В романе Льва Толстого «Война и мир» подробно описаны судьбы нескольких дворянских семей на фоне исторических событий начала XIX века. Произведение исследует тему человеческой свободы и морального выбора в условиях войны и социальных перемен.\n",
      "Суммаризация: Вышел роман Льва Толстого «Война и мир».\n",
      "----------------------------------------\n",
      "Пример 3:\n",
      "Оригинал: Историк Сергей Соловьев в своём труде описал ключевые этапы формирования российского государства на рубеже XVII-XVIII веков. Особое внимание уделяется преобразованиям Петра Великого и их влиянию на развитие армии и флота.\n",
      "Суммаризация: Вспоминая о том, как формировалась Россия, выясните, почему это произошло\n",
      "----------------------------------------\n",
      "Пример 4:\n",
      "Оригинал: Биография Марии Кюри раскрывает путь выдающейся учёной, дважды лауреата Нобелевской премии, внесшей огромный вклад в изучение радиоактивности. Её открытия открыли новые горизонты для медицины и физики в начале XX века.\n",
      "Суммаризация: Ученые открыли новые горизонты для открытия новых горизонтов\n",
      "----------------------------------------\n",
      "Пример 5:\n",
      "Оригинал: Правительство анонсировало запуск национальной программы цифровизации экономики, включающей развитие инфраструктуры, внедрение инновационных технологий и образование специалистов. Цель проекта — повысить конкурентоспособность страны на мировой арене.\n",
      "Суммаризация: Правительство одобрило запуск национальной национальной программы по развитию инновационных технологий.\n",
      "----------------------------------------\n"
     ]
    }
   ],
   "source": [
    "texts = [\n",
    "    \"В ходе международной конференции по климатическим изменениям ученые представили новые данные о темпах глобального потепления. Среди ключевых причин отмечаются антропогенные выбросы парниковых газов и изменение использования земель. Эксперты призвали государства к срочным мерам по сокращению вредных выбросов.\",\n",
    "    \"В романе Льва Толстого «Война и мир» подробно описаны судьбы нескольких дворянских семей на фоне исторических событий начала XIX века. Произведение исследует тему человеческой свободы и морального выбора в условиях войны и социальных перемен.\",\n",
    "    \"Историк Сергей Соловьев в своём труде описал ключевые этапы формирования российского государства на рубеже XVII-XVIII веков. Особое внимание уделяется преобразованиям Петра Великого и их влиянию на развитие армии и флота.\",\n",
    "    \"Биография Марии Кюри раскрывает путь выдающейся учёной, дважды лауреата Нобелевской премии, внесшей огромный вклад в изучение радиоактивности. Её открытия открыли новые горизонты для медицины и физики в начале XX века.\",\n",
    "    \"Правительство анонсировало запуск национальной программы цифровизации экономики, включающей развитие инфраструктуры, внедрение инновационных технологий и образование специалистов. Цель проекта — повысить конкурентоспособность страны на мировой арене.\"\n",
    "]\n",
    "\n",
    "for i, text in enumerate(texts, 1):\n",
    "    summary = summarizer(text, max_length=40, min_length=10, do_sample=False)[0]['summary_text']\n",
    "    print(f\"Пример {i}:\\nОригинал: {text}\\nСуммаризация: {summary}\\n{'-'*40}\")"
   ]
  },
  {
   "cell_type": "markdown",
   "id": "bbf817e4",
   "metadata": {},
   "source": [
    "## Анализ результатов суммаризации моделью IlyaGusev/rut5_base_sum_gazeta\n",
    "\n",
    "---\n",
    "\n",
    "### Общие наблюдения\n",
    "\n",
    "- Модель часто упрощает или теряет ключевую информацию.\n",
    "- Встречаются грамматические дубли и бессвязные фразы.\n",
    "- Детали и важные аспекты из оригинального текста часто опускаются.\n",
    "- Иногда появляются \"галлюцинации\" или смысловые искажения (например, вопрос вместо утверждения).\n",
    "\n",
    "---\n",
    "\n",
    "### Примеры и комментарии\n",
    "\n",
    "#### **Пример 1**\n",
    "- **Оригинал**: В ходе международной конференции по климатическим изменениям ученые представили новые данные о темпах глобального потепления. Среди ключевых причин отмечаются антропогенные выбросы парниковых газов и изменение использования земель. Эксперты призвали государства к срочным мерам по сокращению вредных выбросов.\n",
    "- **Суммаризация**: В ходе конференции по климатическим изменениям в Международной конференции ученые представили новые данные о климатических изменениях.\n",
    "- **Комментарий**: Есть повтор, смысл урезан, важный вывод о призыве к действиям пропущен.\n",
    "\n",
    "#### **Пример 2**\n",
    "- **Оригинал**: В романе Льва Толстого «Война и мир» подробно описаны судьбы нескольких дворянских семей на фоне исторических событий начала XIX века. Произведение исследует тему человеческой свободы и морального выбора в условиях войны и социальных перемен.\n",
    "- **Суммаризация**: Вышел роман Льва Толстого «Война и мир».\n",
    "- **Комментарий**: Только факт существования романа, ни сюжет, ни темы не отражены.\n",
    "\n",
    "#### **Пример 3**\n",
    "- **Оригинал**: Историк Сергей Соловьев в своём труде описал ключевые этапы формирования российского государства на рубеже XVII-XVIII веков. Особое внимание уделяется преобразованиям Петра Великого и их влиянию на развитие армии и флота.\n",
    "- **Суммаризация**: Вспоминая о том, как формировалась Россия, выясните, почему это произошло.\n",
    "- **Комментарий**: Превращено в вопросительный стиль, множество фактов пропущено.\n",
    "\n",
    "#### **Пример 4**\n",
    "- **Оригинал**: Биография Марии Кюри раскрывает путь выдающейся учёной, дважды лауреата Нобелевской премии, внесшей огромный вклад в изучение радиоактивности. Её открытия открыли новые горизонты для медицины и физики в начале XX века.\n",
    "- **Суммаризация**: Ученые открыли новые горизонты для открытия новых горизонтов.\n",
    "- **Комментарий**: Повтор фразы, нет упоминания Кюри, потеря сути.\n",
    "\n",
    "#### **Пример 5**\n",
    "- **Оригинал**: Правительство анонсировало запуск национальной программы цифровизации экономики, включающей развитие инфраструктуры, внедрение инновационных технологий и образование специалистов. Цель проекта — повысить конкурентоспособность страны на мировой арене.\n",
    "- **Суммаризация**: Правительство одобрило запуск национальной национальной программы по развитию инновационных технологий.\n",
    "- **Комментарий**: Дублируется часть текста, сокращены детали и цели программы.\n",
    "\n",
    "---\n",
    "\n",
    "### Итог\n",
    "\n",
    "- Суммаризации хорошо справляются с определением объектов, но теряют логику и не сохраняют полноту информации.\n",
    "- Требуется дополнительная постобработка или альтернативные модели для задач с более жёсткими требованиями к содержанию."
   ]
  },
  {
   "cell_type": "markdown",
   "id": "eb6b1a2a",
   "metadata": {},
   "source": [
    "\n",
    "### Задание 2: Анализ эмбеддингов трансформеров — *2 балла*\n",
    "\n",
    "Используя `sentence-transformers`:\n",
    "\n",
    "* Загрузите две модели (на основе BERT и GPT).\n",
    "* Получите эмбеддинги для 10 предложений.\n",
    "* Визуализируйте с помощью t-SNE или PCA.\n",
    "* Сравните близость эмбеддингов синонимичных фраз.\n",
    "\n",
    "---"
   ]
  },
  {
   "cell_type": "markdown",
   "id": "182a00af",
   "metadata": {},
   "source": [
    "##### Загрузка моделей"
   ]
  },
  {
   "cell_type": "code",
   "execution_count": 4,
   "id": "185045dd",
   "metadata": {},
   "outputs": [],
   "source": [
    "from sentence_transformers import SentenceTransformer\n",
    "\n",
    "# BERT-модель\n",
    "bert_model = SentenceTransformer('cointegrated/rubert-tiny2')  # Мультиязычная модель\n"
   ]
  },
  {
   "cell_type": "code",
   "execution_count": 5,
   "id": "527e7a8a",
   "metadata": {},
   "outputs": [],
   "source": [
    "from transformers import AutoTokenizer, AutoModel\n",
    "import torch\n",
    "import numpy as np\n",
    "\n",
    "gpt_name = 'ai-forever/rugpt3small_based_on_gpt2'\n",
    "gpt_tokenizer = AutoTokenizer.from_pretrained(gpt_name)\n",
    "gpt_model = AutoModel.from_pretrained(gpt_name)\n",
    "\n",
    "def get_gpt_embeddings(sentences):\n",
    "    gpt_model.eval()\n",
    "    embeddings = []\n",
    "    with torch.no_grad():\n",
    "        for sent in sentences:\n",
    "            inputs = gpt_tokenizer(sent, return_tensors=\"pt\")\n",
    "            output = gpt_model(**inputs)\n",
    "            hidden = output.last_hidden_state.squeeze(0)  # seq_len x hidden_dim\n",
    "            emb = hidden.mean(dim=0).cpu().numpy()         # mean pooling по токенам\n",
    "            embeddings.append(emb)\n",
    "    return np.vstack(embeddings)"
   ]
  },
  {
   "cell_type": "markdown",
   "id": "e764c0e9",
   "metadata": {},
   "source": [
    "#### Подготовка синонимичных и различных фраз"
   ]
  },
  {
   "cell_type": "code",
   "execution_count": 6,
   "id": "4383f2b0",
   "metadata": {},
   "outputs": [],
   "source": [
    "sentences = [\n",
    "    \"Я люблю машинное обучение.\",\n",
    "    \"Машинное обучение мне по душе.\",\n",
    "    \"Отпуск на море был отличным!\",\n",
    "    \"Я прекрасно отдохнул у моря.\",\n",
    "    \"Собака играет с мячом.\",\n",
    "    \"Питомец догоняет игрушку.\",\n",
    "    \"Погода сегодня ужасная.\",\n",
    "    \"На улице очень холодно.\",\n",
    "    \"Я пью кофе утром.\",\n",
    "    \"Я наслаждаюсь утренним напитком.\"\n",
    "]"
   ]
  },
  {
   "cell_type": "markdown",
   "id": "a8550488",
   "metadata": {},
   "source": [
    "#### Получение эмбеддингов"
   ]
  },
  {
   "cell_type": "code",
   "execution_count": 7,
   "id": "df37fd14",
   "metadata": {},
   "outputs": [
    {
     "name": "stderr",
     "output_type": "stream",
     "text": [
      "huggingface/tokenizers: The current process just got forked, after parallelism has already been used. Disabling parallelism to avoid deadlocks...\n",
      "To disable this warning, you can either:\n",
      "\t- Avoid using `tokenizers` before the fork if possible\n",
      "\t- Explicitly set the environment variable TOKENIZERS_PARALLELISM=(true | false)\n",
      "/Users/sergey/Projects/GigaSchool/llm-engineer/venv/lib/python3.9/site-packages/torch/nn/modules/module.py:1762: FutureWarning: `encoder_attention_mask` is deprecated and will be removed in version 4.55.0 for `BertSdpaSelfAttention.forward`.\n",
      "  return forward_call(*args, **kwargs)\n"
     ]
    }
   ],
   "source": [
    "import numpy as np\n",
    "\n",
    "emb_bert = bert_model.encode(sentences)\n",
    "emb_gpt = get_gpt_embeddings(sentences)"
   ]
  },
  {
   "cell_type": "markdown",
   "id": "a11ce82d",
   "metadata": {},
   "source": [
    "#### Визуализация t-SNE"
   ]
  },
  {
   "cell_type": "code",
   "execution_count": 8,
   "id": "0d919e39",
   "metadata": {},
   "outputs": [
    {
     "name": "stderr",
     "output_type": "stream",
     "text": [
      "huggingface/tokenizers: The current process just got forked, after parallelism has already been used. Disabling parallelism to avoid deadlocks...\n",
      "To disable this warning, you can either:\n",
      "\t- Avoid using `tokenizers` before the fork if possible\n",
      "\t- Explicitly set the environment variable TOKENIZERS_PARALLELISM=(true | false)\n"
     ]
    },
    {
     "data": {
      "image/png": "[encoded data removed]",
      "text/plain": [
       "<Figure size 800x600 with 1 Axes>"
      ]
     },
     "metadata": {},
     "output_type": "display_data"
    },
    {
     "data": {
      "image/png": "[encoded data removed]",
      "text/plain": [
       "<Figure size 800x600 with 1 Axes>"
      ]
     },
     "metadata": {},
     "output_type": "display_data"
    }
   ],
   "source": [
    "from sklearn.manifold import TSNE\n",
    "import matplotlib.pyplot as plt\n",
    "\n",
    "def plot_tsne(embeddings, title):\n",
    "    tsne = TSNE(n_components=2, perplexity=5, random_state=42)\n",
    "    emb_2d = tsne.fit_transform(embeddings)\n",
    "    plt.figure(figsize=(8,6))\n",
    "    plt.scatter(emb_2d[:,0], emb_2d[:,1])\n",
    "    for i, text in enumerate(sentences):\n",
    "        plt.annotate(str(i+1), (emb_2d[i, 0], emb_2d[i, 1]))\n",
    "    plt.title(title)\n",
    "    plt.show()\n",
    "\n",
    "def plot_tsne_no_nan(embeddings, title):\n",
    "    if np.isnan(embeddings).any() or np.isinf(embeddings).any():\n",
    "        print(f\"Эмбеддинги для {title} содержат NaN или Inf!\")\n",
    "    else:\n",
    "        plot_tsne(embeddings, title)\n",
    "\n",
    "plot_tsne_no_nan(emb_bert, \"t-SNE для эмбеддингов BERT\")\n",
    "plot_tsne_no_nan(emb_gpt,  \"t-SNE для эмбеддингов 'GPT'\")"
   ]
  },
  {
   "cell_type": "markdown",
   "id": "8b192237",
   "metadata": {},
   "source": [
    "#### Сравните близости синонимичных фраз"
   ]
  },
  {
   "cell_type": "code",
   "execution_count": 9,
   "id": "cd7b9d89",
   "metadata": {},
   "outputs": [
    {
     "name": "stdout",
     "output_type": "stream",
     "text": [
      "Cosine similarity by pairs:\n",
      "Pair 1-2: BERT=0.83, 'GPT'/RuBERT=0.86\n",
      "Pair 3-4: BERT=0.74, 'GPT'/RuBERT=0.78\n",
      "Pair 5-6: BERT=0.78, 'GPT'/RuBERT=0.78\n",
      "Pair 7-8: BERT=0.66, 'GPT'/RuBERT=0.75\n",
      "Pair 9-10: BERT=0.81, 'GPT'/RuBERT=0.75\n"
     ]
    }
   ],
   "source": [
    "from sklearn.metrics.pairwise import cosine_similarity\n",
    "\n",
    "pairs = [(0,1), (2,3), (4,5), (6,7), (8,9)]\n",
    "print(\"Cosine similarity by pairs:\")\n",
    "for i,j in pairs:\n",
    "    cs_bert = cosine_similarity([emb_bert[i]],[emb_bert[j]])[0][0]\n",
    "    cs_gpt = cosine_similarity([emb_gpt[i]], [emb_gpt[j]])[0][0]\n",
    "    print(f\"Pair {i+1}-{j+1}: BERT={cs_bert:.2f}, 'GPT'/RuBERT={cs_gpt:.2f}\")"
   ]
  },
  {
   "cell_type": "markdown",
   "id": "c8779a04",
   "metadata": {},
   "source": [
    "## Выводы по анализу эмбеддингов BERT и GPT\n",
    "\n",
    "- **Semantic Similarity**: Оба подхода — BERT (LaBSE в sentence-transformers) и mean pooling эмбеддингов последнего слоя GPT (RuGPT3small) — дают высокую косинусную близость для синонимичных русскоязычных предложений (от 0.66 до 0.86).\n",
    "- **Качественная близость**: Для большинства пар синонимичных фраз значения близости для BERT и GPT аналогичны, в отдельных случаях GPT даже выдаёт чуть большую близость (например, для пары 1-2 — 0.86 против 0.83 у BERT).\n",
    "- **Визуализация (t-SNE)**: На двумерной проекции (t-SNE) эмбеддинги синонимичных фраз для обеих моделей группируются рядом друг с другом, что подтверждает их семантическую схожесть.\n",
    "- **Назначение моделей**: Несмотря на то, что GPT изначально не предназначен для получения sentence embeddings (а BERT-модели sentence-transformers обучались именно на подобных задачах), mean pooling скрытых состояний последнего слоя GPT может также использоваться для получения эмбеддингов смыслов русских предложений."
   ]
  },
  {
   "cell_type": "markdown",
   "id": "9b55eca3",
   "metadata": {},
   "source": [
    "\n",
    "### Задание 3: Сравнение с классическими методами NLP\n",
    "\n",
    "На задаче классификации новостей:\n",
    "\n",
    "* Насэмплируйте подмножество из `lenta-ru-news` (5-10к строк).\n",
    "\n",
    "Реализуйте:\n",
    "\n",
    "1. TF-IDF + LogisticRegression — *2 балла*\n",
    "2. Sentence-transformers + LogisticRegression — *2 балла*\n",
    "3. Zero-shot классификация через pipeline — *2 балла*\n",
    "4. Сравните качество всех подходов — *1 балл*\n",
    "\n",
    "---"
   ]
  },
  {
   "cell_type": "markdown",
   "id": "6fe0fc4d",
   "metadata": {},
   "source": [
    "#### Подготовка данных"
   ]
  },
  {
   "cell_type": "code",
   "execution_count": 10,
   "id": "003b4fe9",
   "metadata": {},
   "outputs": [
    {
     "name": "stdout",
     "output_type": "stream",
     "text": [
      "topic\n",
      "Россия               160519\n",
      "Мир                  136680\n",
      "Экономика             79538\n",
      "Спорт                 64421\n",
      "Культура              53803\n",
      "Бывший СССР           53402\n",
      "Наука и техника       53136\n",
      "Интернет и СМИ        44675\n",
      "Из жизни              27611\n",
      "Дом                   21734\n",
      "Силовые структуры     19596\n",
      "Ценности               7766\n",
      "Бизнес                 7399\n",
      "Путешествия            6408\n",
      "69-я параллель         1268\n",
      "Крым                    666\n",
      "Культпросвет            340\n",
      "Легпром                 114\n",
      "Библиотека               65\n",
      "Оружие                    3\n",
      "ЧМ-2014                   2\n",
      "МедНовости                1\n",
      "Сочи                      1\n",
      "Name: count, dtype: int64\n"
     ]
    }
   ],
   "source": [
    "import pandas as pd\n",
    "\n",
    "# Подгружаем данные\n",
    "df = pd.read_csv('./lenta-ru-news.csv.gz')\n",
    "\n",
    "# Оставляем только уникальные категории для удобства\n",
    "print(df['topic'].value_counts())\n",
    "\n",
    "# Сэмплируем подмножество\n",
    "df_small = df.dropna(subset=['text', 'topic']).sample(n=7000, random_state=42)  # Можно выбрать от 5к до 10к"
   ]
  },
  {
   "cell_type": "code",
   "execution_count": 11,
   "id": "fc37f9d7",
   "metadata": {},
   "outputs": [],
   "source": [
    "# Удаляем слишком редкие классы (со встречаемостью < 2)\n",
    "topic_counts = df_small['topic'].value_counts()\n",
    "valid_topics = topic_counts[topic_counts > 1].index\n",
    "df_small = df_small[df_small['topic'].isin(valid_topics)]"
   ]
  },
  {
   "cell_type": "code",
   "execution_count": 12,
   "id": "bf867a17",
   "metadata": {},
   "outputs": [
    {
     "name": "stdout",
     "output_type": "stream",
     "text": [
      "0 0\n"
     ]
    }
   ],
   "source": [
    "print(df_small['text'].isna().sum(), df_small['topic'].isna().sum())"
   ]
  },
  {
   "cell_type": "code",
   "execution_count": 13,
   "id": "a1e68089",
   "metadata": {},
   "outputs": [
    {
     "data": {
      "text/html": [
       "<div>\n",
       "<style scoped>\n",
       "    .dataframe tbody tr th:only-of-type {\n",
       "        vertical-align: middle;\n",
       "    }\n",
       "\n",
       "    .dataframe tbody tr th {\n",
       "        vertical-align: top;\n",
       "    }\n",
       "\n",
       "    .dataframe thead th {\n",
       "        text-align: right;\n",
       "    }\n",
       "</style>\n",
       "<table border=\"1\" class=\"dataframe\">\n",
       "  <thead>\n",
       "    <tr style=\"text-align: right;\">\n",
       "      <th></th>\n",
       "      <th>url</th>\n",
       "      <th>title</th>\n",
       "      <th>text</th>\n",
       "      <th>topic</th>\n",
       "      <th>tags</th>\n",
       "    </tr>\n",
       "  </thead>\n",
       "  <tbody>\n",
       "    <tr>\n",
       "      <th>161227</th>\n",
       "      <td>https://lenta.ru/news/2016/01/25/saycheese/</td>\n",
       "      <td>В Висконсине угнали трейлер с сыром на 70 тыся...</td>\n",
       "      <td>В американском штате Висконсин угнали трейлер ...</td>\n",
       "      <td>Мир</td>\n",
       "      <td>Общество</td>\n",
       "    </tr>\n",
       "    <tr>\n",
       "      <th>286087</th>\n",
       "      <td>https://lenta.ru/news/2013/02/01/boiler/</td>\n",
       "      <td>Причиной взрыва в мексиканском небоскребе назв...</td>\n",
       "      <td>По предварительным данным, причиной мощного вз...</td>\n",
       "      <td>Мир</td>\n",
       "      <td>Происшествия</td>\n",
       "    </tr>\n",
       "    <tr>\n",
       "      <th>89733</th>\n",
       "      <td>https://lenta.ru/news/2017/03/09/isins/</td>\n",
       "      <td>Исинбаева рассказала о задачах на руководящей ...</td>\n",
       "      <td>Двукратная олимпийская чемпионка в прыжках с ш...</td>\n",
       "      <td>Спорт</td>\n",
       "      <td>Летние виды</td>\n",
       "    </tr>\n",
       "    <tr>\n",
       "      <th>360233</th>\n",
       "      <td>https://lenta.ru/news/2011/06/20/planet/</td>\n",
       "      <td>Астрономы обнаружили каменистую планету микрол...</td>\n",
       "      <td>Астрофизики впервые обнаружили удаленную от св...</td>\n",
       "      <td>Наука и техника</td>\n",
       "      <td>Все</td>\n",
       "    </tr>\n",
       "    <tr>\n",
       "      <th>728766</th>\n",
       "      <td>https://lenta.ru/news/2000/07/24/tour_de_france/</td>\n",
       "      <td>Лэнс Армстронг выигрывает \"Тур де Франс\"</td>\n",
       "      <td>В воскресенье завершилась 87-я традиционная ве...</td>\n",
       "      <td>Спорт</td>\n",
       "      <td>Все</td>\n",
       "    </tr>\n",
       "  </tbody>\n",
       "</table>\n",
       "</div>"
      ],
      "text/plain": [
       "                                                     url  \\\n",
       "161227       https://lenta.ru/news/2016/01/25/saycheese/   \n",
       "286087          https://lenta.ru/news/2013/02/01/boiler/   \n",
       "89733            https://lenta.ru/news/2017/03/09/isins/   \n",
       "360233          https://lenta.ru/news/2011/06/20/planet/   \n",
       "728766  https://lenta.ru/news/2000/07/24/tour_de_france/   \n",
       "\n",
       "                                                    title  \\\n",
       "161227  В Висконсине угнали трейлер с сыром на 70 тыся...   \n",
       "286087  Причиной взрыва в мексиканском небоскребе назв...   \n",
       "89733   Исинбаева рассказала о задачах на руководящей ...   \n",
       "360233  Астрономы обнаружили каменистую планету микрол...   \n",
       "728766           Лэнс Армстронг выигрывает \"Тур де Франс\"   \n",
       "\n",
       "                                                     text            topic  \\\n",
       "161227  В американском штате Висконсин угнали трейлер ...              Мир   \n",
       "286087  По предварительным данным, причиной мощного вз...              Мир   \n",
       "89733   Двукратная олимпийская чемпионка в прыжках с ш...            Спорт   \n",
       "360233  Астрофизики впервые обнаружили удаленную от св...  Наука и техника   \n",
       "728766  В воскресенье завершилась 87-я традиционная ве...            Спорт   \n",
       "\n",
       "                tags  \n",
       "161227      Общество  \n",
       "286087  Происшествия  \n",
       "89733    Летние виды  \n",
       "360233           Все  \n",
       "728766           Все  "
      ]
     },
     "execution_count": 13,
     "metadata": {},
     "output_type": "execute_result"
    }
   ],
   "source": [
    "df_small.head()"
   ]
  },
  {
   "cell_type": "code",
   "execution_count": null,
   "id": "3a3488e2",
   "metadata": {},
   "outputs": [],
   "source": []
  },
  {
   "cell_type": "markdown",
   "id": "d579aa34",
   "metadata": {},
   "source": [
    "#### TF-IDF + Logistic Regression"
   ]
  },
  {
   "cell_type": "code",
   "execution_count": 14,
   "id": "0a155f20",
   "metadata": {},
   "outputs": [
    {
     "name": "stdout",
     "output_type": "stream",
     "text": [
      "TF-IDF + LogisticRegression:\n",
      "                   precision    recall  f1-score   support\n",
      "\n",
      "   69-я параллель       0.00      0.00      0.00         2\n",
      "           Бизнес       0.00      0.00      0.00        15\n",
      "      Бывший СССР       0.72      0.43      0.54        97\n",
      "              Дом       0.95      0.47      0.63        38\n",
      "         Из жизни       1.00      0.09      0.17        54\n",
      "   Интернет и СМИ       0.86      0.50      0.63        84\n",
      "             Крым       0.00      0.00      0.00         1\n",
      "    Культпросвет        0.00      0.00      0.00         1\n",
      "         Культура       0.78      0.82      0.80        98\n",
      "              Мир       0.63      0.83      0.72       259\n",
      "  Наука и техника       0.88      0.81      0.84       110\n",
      "      Путешествия       0.00      0.00      0.00        18\n",
      "           Россия       0.58      0.84      0.69       294\n",
      "Силовые структуры       0.00      0.00      0.00        33\n",
      "            Спорт       0.96      0.96      0.96       127\n",
      "         Ценности       1.00      0.23      0.38        13\n",
      "        Экономика       0.73      0.78      0.76       156\n",
      "\n",
      "         accuracy                           0.70      1400\n",
      "        macro avg       0.53      0.40      0.42      1400\n",
      "     weighted avg       0.71      0.70      0.67      1400\n",
      "\n"
     ]
    },
    {
     "name": "stderr",
     "output_type": "stream",
     "text": [
      "/Users/sergey/Projects/GigaSchool/llm-engineer/venv/lib/python3.9/site-packages/sklearn/metrics/_classification.py:1565: UndefinedMetricWarning: Precision is ill-defined and being set to 0.0 in labels with no predicted samples. Use `zero_division` parameter to control this behavior.\n",
      "  _warn_prf(average, modifier, f\"{metric.capitalize()} is\", len(result))\n",
      "/Users/sergey/Projects/GigaSchool/llm-engineer/venv/lib/python3.9/site-packages/sklearn/metrics/_classification.py:1565: UndefinedMetricWarning: Precision is ill-defined and being set to 0.0 in labels with no predicted samples. Use `zero_division` parameter to control this behavior.\n",
      "  _warn_prf(average, modifier, f\"{metric.capitalize()} is\", len(result))\n",
      "/Users/sergey/Projects/GigaSchool/llm-engineer/venv/lib/python3.9/site-packages/sklearn/metrics/_classification.py:1565: UndefinedMetricWarning: Precision is ill-defined and being set to 0.0 in labels with no predicted samples. Use `zero_division` parameter to control this behavior.\n",
      "  _warn_prf(average, modifier, f\"{metric.capitalize()} is\", len(result))\n"
     ]
    }
   ],
   "source": [
    "from sklearn.feature_extraction.text import TfidfVectorizer\n",
    "from sklearn.linear_model import LogisticRegression\n",
    "from sklearn.pipeline import Pipeline\n",
    "from sklearn.model_selection import train_test_split\n",
    "from sklearn.metrics import classification_report\n",
    "\n",
    "X_train, X_test, y_train, y_test = train_test_split(df_small['text'], df_small['topic'], test_size=0.2, random_state=42, stratify=df_small['topic'])\n",
    "\n",
    "pipe_tf = Pipeline([\n",
    "    ('tfidf', TfidfVectorizer(max_features=30000)),\n",
    "    ('clf', LogisticRegression(max_iter=1000))\n",
    "])\n",
    "pipe_tf.fit(X_train, y_train)\n",
    "y_pred_tf = pipe_tf.predict(X_test)\n",
    "\n",
    "print(\"TF-IDF + LogisticRegression:\")\n",
    "print(classification_report(y_test, y_pred_tf))"
   ]
  },
  {
   "cell_type": "markdown",
   "id": "64fda58c",
   "metadata": {},
   "source": [
    "#### Sentence-transformers + Logistic Regression"
   ]
  },
  {
   "cell_type": "code",
   "execution_count": 15,
   "id": "64503798",
   "metadata": {},
   "outputs": [
    {
     "name": "stderr",
     "output_type": "stream",
     "text": [
      "Batches:   0%|          | 0/44 [00:00<?, ?it/s]/Users/sergey/Projects/GigaSchool/llm-engineer/venv/lib/python3.9/site-packages/torch/nn/modules/module.py:1762: FutureWarning: `encoder_attention_mask` is deprecated and will be removed in version 4.55.0 for `BertSdpaSelfAttention.forward`.\n",
      "  return forward_call(*args, **kwargs)\n",
      "Batches: 100%|██████████| 44/44 [01:24<00:00,  1.91s/it]\n",
      "Batches: 100%|██████████| 11/11 [03:56<00:00, 21.51s/it]\n"
     ]
    },
    {
     "name": "stdout",
     "output_type": "stream",
     "text": [
      "Sentence-transformers + LogisticRegression:\n",
      "                   precision    recall  f1-score   support\n",
      "\n",
      "   69-я параллель       0.00      0.00      0.00         2\n",
      "           Бизнес       0.00      0.00      0.00        15\n",
      "      Бывший СССР       0.69      0.45      0.55        97\n",
      "              Дом       0.76      0.66      0.70        38\n",
      "         Из жизни       0.69      0.33      0.45        54\n",
      "   Интернет и СМИ       0.73      0.54      0.62        84\n",
      "             Крым       0.00      0.00      0.00         1\n",
      "    Культпросвет        0.00      0.00      0.00         1\n",
      "         Культура       0.72      0.86      0.79        98\n",
      "              Мир       0.71      0.83      0.77       259\n",
      "  Наука и техника       0.85      0.85      0.85       110\n",
      "      Путешествия       1.00      0.11      0.20        18\n",
      "           Россия       0.62      0.81      0.70       294\n",
      "Силовые структуры       0.00      0.00      0.00        33\n",
      "            Спорт       0.95      0.94      0.95       127\n",
      "         Ценности       1.00      0.38      0.56        13\n",
      "        Экономика       0.75      0.79      0.77       156\n",
      "\n",
      "         accuracy                           0.72      1400\n",
      "        macro avg       0.56      0.44      0.46      1400\n",
      "     weighted avg       0.71      0.72      0.70      1400\n",
      "\n"
     ]
    },
    {
     "name": "stderr",
     "output_type": "stream",
     "text": [
      "/Users/sergey/Projects/GigaSchool/llm-engineer/venv/lib/python3.9/site-packages/sklearn/metrics/_classification.py:1565: UndefinedMetricWarning: Precision is ill-defined and being set to 0.0 in labels with no predicted samples. Use `zero_division` parameter to control this behavior.\n",
      "  _warn_prf(average, modifier, f\"{metric.capitalize()} is\", len(result))\n",
      "/Users/sergey/Projects/GigaSchool/llm-engineer/venv/lib/python3.9/site-packages/sklearn/metrics/_classification.py:1565: UndefinedMetricWarning: Precision is ill-defined and being set to 0.0 in labels with no predicted samples. Use `zero_division` parameter to control this behavior.\n",
      "  _warn_prf(average, modifier, f\"{metric.capitalize()} is\", len(result))\n",
      "/Users/sergey/Projects/GigaSchool/llm-engineer/venv/lib/python3.9/site-packages/sklearn/metrics/_classification.py:1565: UndefinedMetricWarning: Precision is ill-defined and being set to 0.0 in labels with no predicted samples. Use `zero_division` parameter to control this behavior.\n",
      "  _warn_prf(average, modifier, f\"{metric.capitalize()} is\", len(result))\n"
     ]
    }
   ],
   "source": [
    "from sentence_transformers import SentenceTransformer\n",
    "import numpy as np\n",
    "\n",
    "model = SentenceTransformer('cointegrated/rubert-tiny2')\n",
    "\n",
    "# Векторизуем\n",
    "X_train_emb = model.encode(X_train.tolist(), show_progress_bar=True, batch_size=128)\n",
    "X_test_emb = model.encode(X_test.tolist(), show_progress_bar=True, batch_size=128)\n",
    "\n",
    "clf_emb = LogisticRegression(max_iter=1000)\n",
    "clf_emb.fit(X_train_emb, y_train)\n",
    "y_pred_emb = clf_emb.predict(X_test_emb)\n",
    "\n",
    "print(\"Sentence-transformers + LogisticRegression:\")\n",
    "print(classification_report(y_test, y_pred_emb))"
   ]
  },
  {
   "cell_type": "markdown",
   "id": "5e56557a",
   "metadata": {},
   "source": [
    "#### Zero-shot классификация (pipeline)"
   ]
  },
  {
   "cell_type": "code",
   "execution_count": 16,
   "id": "af482b6d",
   "metadata": {},
   "outputs": [
    {
     "name": "stderr",
     "output_type": "stream",
     "text": [
      "huggingface/tokenizers: The current process just got forked, after parallelism has already been used. Disabling parallelism to avoid deadlocks...\n",
      "To disable this warning, you can either:\n",
      "\t- Avoid using `tokenizers` before the fork if possible\n",
      "\t- Explicitly set the environment variable TOKENIZERS_PARALLELISM=(true | false)\n"
     ]
    },
    {
     "name": "stdout",
     "output_type": "stream",
     "text": [
      "Requirement already satisfied: tiktoken in /Users/sergey/Projects/GigaSchool/llm-engineer/venv/lib/python3.9/site-packages (0.10.0)\n",
      "Requirement already satisfied: protobuf in /Users/sergey/Projects/GigaSchool/llm-engineer/venv/lib/python3.9/site-packages (6.31.1)\n",
      "Requirement already satisfied: regex>=2022.1.18 in /Users/sergey/Projects/GigaSchool/llm-engineer/venv/lib/python3.9/site-packages (from tiktoken) (2025.7.29)\n",
      "Requirement already satisfied: requests>=2.26.0 in /Users/sergey/Projects/GigaSchool/llm-engineer/venv/lib/python3.9/site-packages (from tiktoken) (2.32.4)\n",
      "Requirement already satisfied: charset_normalizer<4,>=2 in /Users/sergey/Projects/GigaSchool/llm-engineer/venv/lib/python3.9/site-packages (from requests>=2.26.0->tiktoken) (3.4.2)\n",
      "Requirement already satisfied: idna<4,>=2.5 in /Users/sergey/Projects/GigaSchool/llm-engineer/venv/lib/python3.9/site-packages (from requests>=2.26.0->tiktoken) (3.10)\n",
      "Requirement already satisfied: urllib3<3,>=1.21.1 in /Users/sergey/Projects/GigaSchool/llm-engineer/venv/lib/python3.9/site-packages (from requests>=2.26.0->tiktoken) (2.5.0)\n",
      "Requirement already satisfied: certifi>=2017.4.17 in /Users/sergey/Projects/GigaSchool/llm-engineer/venv/lib/python3.9/site-packages (from requests>=2.26.0->tiktoken) (2025.7.14)\n",
      "\n",
      "\u001b[1m[\u001b[0m\u001b[34;49mnotice\u001b[0m\u001b[1;39;49m]\u001b[0m\u001b[39;49m A new release of pip is available: \u001b[0m\u001b[31;49m24.3.1\u001b[0m\u001b[39;49m -> \u001b[0m\u001b[32;49m25.2\u001b[0m\n",
      "\u001b[1m[\u001b[0m\u001b[34;49mnotice\u001b[0m\u001b[1;39;49m]\u001b[0m\u001b[39;49m To update, run: \u001b[0m\u001b[32;49mpip install --upgrade pip\u001b[0m\n"
     ]
    }
   ],
   "source": [
    "!pip install tiktoken protobuf --upgrade"
   ]
  },
  {
   "cell_type": "code",
   "execution_count": 17,
   "id": "4d7c3e39",
   "metadata": {},
   "outputs": [
    {
     "name": "stderr",
     "output_type": "stream",
     "text": [
      "huggingface/tokenizers: The current process just got forked, after parallelism has already been used. Disabling parallelism to avoid deadlocks...\n",
      "To disable this warning, you can either:\n",
      "\t- Avoid using `tokenizers` before the fork if possible\n",
      "\t- Explicitly set the environment variable TOKENIZERS_PARALLELISM=(true | false)\n"
     ]
    },
    {
     "name": "stdout",
     "output_type": "stream",
     "text": [
      "Requirement already satisfied: sentencepiece in /Users/sergey/Projects/GigaSchool/llm-engineer/venv/lib/python3.9/site-packages (0.2.0)\n",
      "\n",
      "\u001b[1m[\u001b[0m\u001b[34;49mnotice\u001b[0m\u001b[1;39;49m]\u001b[0m\u001b[39;49m A new release of pip is available: \u001b[0m\u001b[31;49m24.3.1\u001b[0m\u001b[39;49m -> \u001b[0m\u001b[32;49m25.2\u001b[0m\n",
      "\u001b[1m[\u001b[0m\u001b[34;49mnotice\u001b[0m\u001b[1;39;49m]\u001b[0m\u001b[39;49m To update, run: \u001b[0m\u001b[32;49mpip install --upgrade pip\u001b[0m\n"
     ]
    }
   ],
   "source": [
    "!pip install sentencepiece --upgrade"
   ]
  },
  {
   "cell_type": "code",
   "execution_count": 18,
   "id": "19ef470e",
   "metadata": {},
   "outputs": [
    {
     "name": "stdout",
     "output_type": "stream",
     "text": [
      "0.2.0\n"
     ]
    }
   ],
   "source": [
    "import sentencepiece\n",
    "print(sentencepiece.__version__)"
   ]
  },
  {
   "cell_type": "code",
   "execution_count": 19,
   "id": "bc41b9af",
   "metadata": {},
   "outputs": [
    {
     "name": "stderr",
     "output_type": "stream",
     "text": [
      "Device set to use mps:0\n"
     ]
    }
   ],
   "source": [
    "from transformers import pipeline\n",
    "\n",
    "zero_shot_clf = pipeline(\n",
    "    \"zero-shot-classification\",\n",
    "    model=\"MoritzLaurer/Multilingual-MiniLMv2-L6-mnli-xnli\",\n",
    "    tokenizer=\"MoritzLaurer/Multilingual-MiniLMv2-L6-mnli-xnli\",\n",
    "    use_fast=False\n",
    ")"
   ]
  },
  {
   "cell_type": "code",
   "execution_count": 20,
   "id": "6b89bbc4",
   "metadata": {},
   "outputs": [
    {
     "name": "stderr",
     "output_type": "stream",
     "text": [
      "Device set to use mps:0\n",
      "/Users/sergey/Projects/GigaSchool/llm-engineer/venv/lib/python3.9/site-packages/torch/nn/modules/module.py:1762: FutureWarning: `encoder_attention_mask` is deprecated and will be removed in version 4.55.0 for `XLMRobertaSdpaSelfAttention.forward`.\n",
      "  return forward_call(*args, **kwargs)\n"
     ]
    },
    {
     "name": "stdout",
     "output_type": "stream",
     "text": [
      "                   precision    recall  f1-score   support\n",
      "\n",
      "      Бывший СССР       0.33      0.20      0.25         5\n",
      "         Из жизни       0.00      0.00      0.00         4\n",
      "   Интернет и СМИ       0.43      0.60      0.50         5\n",
      "    Культпросвет        0.00      0.00      0.00         0\n",
      "         Культура       0.00      0.00      0.00         2\n",
      "          Легпром       0.00      0.00      0.00         0\n",
      "              Мир       0.00      0.00      0.00        14\n",
      "  Наука и техника       0.00      0.00      0.00         2\n",
      "      Путешествия       0.00      0.00      0.00         1\n",
      "           Россия       0.00      0.00      0.00        13\n",
      "Силовые структуры       0.00      0.00      0.00         1\n",
      "            Спорт       0.00      0.00      0.00         2\n",
      "         Ценности       0.00      0.00      0.00         0\n",
      "        Экономика       0.00      0.00      0.00         1\n",
      "\n",
      "         accuracy                           0.08        50\n",
      "        macro avg       0.05      0.06      0.05        50\n",
      "     weighted avg       0.08      0.08      0.07        50\n",
      "\n"
     ]
    },
    {
     "name": "stderr",
     "output_type": "stream",
     "text": [
      "/Users/sergey/Projects/GigaSchool/llm-engineer/venv/lib/python3.9/site-packages/sklearn/metrics/_classification.py:1565: UndefinedMetricWarning: Precision is ill-defined and being set to 0.0 in labels with no predicted samples. Use `zero_division` parameter to control this behavior.\n",
      "  _warn_prf(average, modifier, f\"{metric.capitalize()} is\", len(result))\n",
      "/Users/sergey/Projects/GigaSchool/llm-engineer/venv/lib/python3.9/site-packages/sklearn/metrics/_classification.py:1565: UndefinedMetricWarning: Recall is ill-defined and being set to 0.0 in labels with no true samples. Use `zero_division` parameter to control this behavior.\n",
      "  _warn_prf(average, modifier, f\"{metric.capitalize()} is\", len(result))\n",
      "/Users/sergey/Projects/GigaSchool/llm-engineer/venv/lib/python3.9/site-packages/sklearn/metrics/_classification.py:1565: UndefinedMetricWarning: Precision is ill-defined and being set to 0.0 in labels with no predicted samples. Use `zero_division` parameter to control this behavior.\n",
      "  _warn_prf(average, modifier, f\"{metric.capitalize()} is\", len(result))\n",
      "/Users/sergey/Projects/GigaSchool/llm-engineer/venv/lib/python3.9/site-packages/sklearn/metrics/_classification.py:1565: UndefinedMetricWarning: Recall is ill-defined and being set to 0.0 in labels with no true samples. Use `zero_division` parameter to control this behavior.\n",
      "  _warn_prf(average, modifier, f\"{metric.capitalize()} is\", len(result))\n",
      "/Users/sergey/Projects/GigaSchool/llm-engineer/venv/lib/python3.9/site-packages/sklearn/metrics/_classification.py:1565: UndefinedMetricWarning: Precision is ill-defined and being set to 0.0 in labels with no predicted samples. Use `zero_division` parameter to control this behavior.\n",
      "  _warn_prf(average, modifier, f\"{metric.capitalize()} is\", len(result))\n",
      "/Users/sergey/Projects/GigaSchool/llm-engineer/venv/lib/python3.9/site-packages/sklearn/metrics/_classification.py:1565: UndefinedMetricWarning: Recall is ill-defined and being set to 0.0 in labels with no true samples. Use `zero_division` parameter to control this behavior.\n",
      "  _warn_prf(average, modifier, f\"{metric.capitalize()} is\", len(result))\n"
     ]
    }
   ],
   "source": [
    "from transformers import pipeline\n",
    "\n",
    "# Получаем список классов\n",
    "candidate_labels = list(df_small['topic'].unique())\n",
    "\n",
    "#zero_shot_clf = pipeline(\n",
    "#    \"zero-shot-classification\",\n",
    "#    model=\"facebook/bart-large-mnli\",\n",
    "#    tokenizer=\"facebook/bart-large-mnli\",\n",
    "#    use_fast=False\n",
    "#)\n",
    "zero_shot_clf = pipeline(\n",
    "    \"zero-shot-classification\",\n",
    "    model=\"MoritzLaurer/Multilingual-MiniLMv2-L6-mnli-xnli\",\n",
    "    tokenizer=\"MoritzLaurer/Multilingual-MiniLMv2-L6-mnli-xnli\",\n",
    "    use_fast=False\n",
    ")\n",
    "\n",
    "# Ограничим подвыборку для скорости (например, 50 примеров)\n",
    "sampled = X_test.sample(50, random_state=1)\n",
    "\n",
    "zs_preds = []\n",
    "for t in sampled:\n",
    "    preds = zero_shot_clf(t, candidate_labels)\n",
    "    zs_preds.append(preds['labels'][0])\n",
    "\n",
    "from sklearn.metrics import classification_report\n",
    "print(classification_report(y_test.loc[sampled.index], zs_preds))"
   ]
  },
  {
   "cell_type": "markdown",
   "id": "3d0e962f",
   "metadata": {},
   "source": [
    "### Сравнение подходов классификации новостей\n",
    "\n",
    "- **TF-IDF + LogisticRegression**\n",
    "  - Macro F1 = **0.42**\n",
    "  - Accuracy = **0.70**\n",
    "\n",
    "- **Sentence-transformers + LogisticRegression**\n",
    "  - Macro F1 = **0.46**\n",
    "  - Accuracy = **0.72**\n",
    "\n",
    "- **Zero-shot (Multilingual-MiniLMv2, 50 примеров)**\n",
    "  - Macro F1 ≈ **0.05**\n",
    "  - Accuracy = **0.08**\n",
    "\n",
    "**Выводы:**\n",
    "- Классический подход TF-IDF + LogisticRegression даёт хорошее базовое качество (macro F1 ≈ 0.42–0.46, accuracy ≈ 0.70–0.72), но многие редкие классы не определяются вовсе.\n",
    "- Подход с sentence-transformers + LogisticRegression немного превосходит TF-IDF, особенно для популярных и смысловых классов, что ожидаемо для семантических embeddings.\n",
    "- Zero-shot-модель без обучения на валидационных русских данных демонстрирует низкие метрики и пригодна лишь для \"грубого\" классифицирования или ситуаций без обучающей выборки.  \n",
    "- Для всех моделей наблюдается затухание результатов для малочисленных классов."
   ]
  },
  {
   "cell_type": "code",
   "execution_count": null,
   "id": "0cd4b626",
   "metadata": {},
   "outputs": [],
   "source": []
  }
 ],
 "metadata": {
  "kernelspec": {
   "display_name": "venv",
   "language": "python",
   "name": "python3"
  },
  "language_info": {
   "codemirror_mode": {
    "name": "ipython",
    "version": 3
   },
   "file_extension": ".py",
   "mimetype": "text/x-python",
   "name": "python",
   "nbconvert_exporter": "python",
   "pygments_lexer": "ipython3",
   "version": "3.9.21"
  }
 },
 "nbformat": 4,
 "nbformat_minor": 5
}
